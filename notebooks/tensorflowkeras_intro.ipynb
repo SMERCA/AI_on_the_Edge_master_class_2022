{
 "cells": [
  {
   "cell_type": "markdown",
   "metadata": {},
   "source": [
    "# Introduction to Tensorflow and Keras\n",
    "\n",
    "You have seen some neural network theory and some examples of their capabilities, but how they are implemented?\n",
    "Of course, you can implement NN using Octave or Matlab or use one of the many existing libraries. Today I will introduce to you to Tensorflow and Keras.\n",
    "\n",
    "- Tensorflow is an open-source library designed by Google to train and develop ML models. It is used by researchers and developers alike.\n",
    "- Keras is a high-level API that greatly simplifies the development of ML models.\n",
    "\n",
    "Together, they make very easy to learn and code neural networks."
   ]
  },
  {
   "cell_type": "markdown",
   "metadata": {},
   "source": [
    "# Toy ML project"
   ]
  },
  {
   "cell_type": "markdown",
   "metadata": {},
   "source": [
    "## Frame the ML problem\n",
    "\n",
    "The best way to learn some new library is a working example, we will solve the hand-written digits detection problem described before. **Our goal is to design a model capable of classifying hand-writing digits from 0 to 9**.\n",
    "\n",
    "First of all, as always, we must import the libraries. Keras is included inside TensorFlow so you can import Keras from TensorFlow."
   ]
  },
  {
   "cell_type": "code",
   "execution_count": 2,
   "metadata": {},
   "outputs": [
    {
     "name": "stderr",
     "output_type": "stream",
     "text": [
      "2022-06-02 21:30:36.700464: W tensorflow/stream_executor/platform/default/dso_loader.cc:64] Could not load dynamic library 'libcudart.so.11.0'; dlerror: libcudart.so.11.0: cannot open shared object file: No such file or directory\n",
      "2022-06-02 21:30:36.700492: I tensorflow/stream_executor/cuda/cudart_stub.cc:29] Ignore above cudart dlerror if you do not have a GPU set up on your machine.\n"
     ]
    },
    {
     "name": "stdout",
     "output_type": "stream",
     "text": [
      "WARNING:tensorflow:From /home/merca/Documentos/AI_on_the_Edge_master_class_2022/venv/lib/python3.8/site-packages/tensorflow/python/ops/distributions/distribution.py:259: ReparameterizationType.__init__ (from tensorflow.python.ops.distributions.distribution) is deprecated and will be removed after 2019-01-01.\n",
      "Instructions for updating:\n",
      "The TensorFlow Distributions library has moved to TensorFlow Probability (https://github.com/tensorflow/probability). You should update all references to use `tfp.distributions` instead of `tf.distributions`.\n",
      "WARNING:tensorflow:From /home/merca/Documentos/AI_on_the_Edge_master_class_2022/venv/lib/python3.8/site-packages/tensorflow/python/ops/distributions/bernoulli.py:165: RegisterKL.__init__ (from tensorflow.python.ops.distributions.kullback_leibler) is deprecated and will be removed after 2019-01-01.\n",
      "Instructions for updating:\n",
      "The TensorFlow Distributions library has moved to TensorFlow Probability (https://github.com/tensorflow/probability). You should update all references to use `tfp.distributions` instead of `tf.distributions`.\n"
     ]
    }
   ],
   "source": [
    "import os\n",
    "import time\n",
    "\n",
    "import tensorflow as tf\n",
    "from tensorflow import keras"
   ]
  },
  {
   "cell_type": "markdown",
   "metadata": {},
   "source": [
    "We will also import some additional packages that will help us to visualize the data."
   ]
  },
  {
   "cell_type": "code",
   "execution_count": 3,
   "metadata": {},
   "outputs": [],
   "source": [
    "%matplotlib inline\n",
    "import numpy as np\n",
    "import matplotlib.pyplot as plt\n",
    "from IPython.display import display # to display images\n",
    "from tqdm.notebook import tqdm # used to display a progress bar"
   ]
  },
  {
   "cell_type": "markdown",
   "metadata": {},
   "source": [
    "## Collect a dataset\n",
    "\n",
    "Now that we have a goal we need a dataset. Since the hand-written digits is a well-known hello-world problem, the MINST dataset is already included inside Keras. The MINST Dataset is composed by 60,000 28x28 grayscale images of the 10 digits, along with a test set of 10,000 images. After downloading the dataset we must check our data to see how it looks."
   ]
  },
  {
   "cell_type": "code",
   "execution_count": 4,
   "metadata": {},
   "outputs": [
    {
     "name": "stdout",
     "output_type": "stream",
     "text": [
      "Train input shape:  (60000, 28, 28)\n",
      "Train output shape:  (60000,)\n",
      "Test input shape:  (10000, 28, 28)\n",
      "Test output shape:  (10000,)\n"
     ]
    }
   ],
   "source": [
    "(x_train, y_train), (x_test, y_test) = keras.datasets.mnist.load_data()\n",
    "print(\"Train input shape: \", x_train.shape)\n",
    "print(\"Train output shape: \", y_train.shape)\n",
    "print(\"Test input shape: \", x_test.shape)\n",
    "print(\"Test output shape: \", y_test.shape)"
   ]
  },
  {
   "cell_type": "markdown",
   "metadata": {},
   "source": [
    "### Exploratory data analysis"
   ]
  },
  {
   "cell_type": "code",
   "execution_count": 5,
   "metadata": {},
   "outputs": [
    {
     "name": "stdout",
     "output_type": "stream",
     "text": [
      "[[  0   0   0   0   0   0   0   0   0   0   0   0   0   0   0   0   0   0\n",
      "    0   0   0   0   0   0   0   0   0   0]\n",
      " [  0   0   0   0   0   0   0   0   0   0   0   0   0   0   0   0   0   0\n",
      "    0   0   0   0   0   0   0   0   0   0]\n",
      " [  0   0   0   0   0   0   0   0   0   0   0   0   0   0   0   0   0   0\n",
      "    0   0   0   0   0   0   0   0   0   0]\n",
      " [  0   0   0   0   0   0   0   0   0   0   0   0   0   0   0   0   0   0\n",
      "    0   0   0   0   0   0   0   0   0   0]\n",
      " [  0   0   0   0   0   0   0   0   0   0   0   0   0   0   0   0   0   0\n",
      "    0   0   0   0   0   0   0   0   0   0]\n",
      " [  0   0   0   0   0   0   0   0   0   0   0   0   3  18  18  18 126 136\n",
      "  175  26 166 255 247 127   0   0   0   0]\n",
      " [  0   0   0   0   0   0   0   0  30  36  94 154 170 253 253 253 253 253\n",
      "  225 172 253 242 195  64   0   0   0   0]\n",
      " [  0   0   0   0   0   0   0  49 238 253 253 253 253 253 253 253 253 251\n",
      "   93  82  82  56  39   0   0   0   0   0]\n",
      " [  0   0   0   0   0   0   0  18 219 253 253 253 253 253 198 182 247 241\n",
      "    0   0   0   0   0   0   0   0   0   0]\n",
      " [  0   0   0   0   0   0   0   0  80 156 107 253 253 205  11   0  43 154\n",
      "    0   0   0   0   0   0   0   0   0   0]\n",
      " [  0   0   0   0   0   0   0   0   0  14   1 154 253  90   0   0   0   0\n",
      "    0   0   0   0   0   0   0   0   0   0]\n",
      " [  0   0   0   0   0   0   0   0   0   0   0 139 253 190   2   0   0   0\n",
      "    0   0   0   0   0   0   0   0   0   0]\n",
      " [  0   0   0   0   0   0   0   0   0   0   0  11 190 253  70   0   0   0\n",
      "    0   0   0   0   0   0   0   0   0   0]\n",
      " [  0   0   0   0   0   0   0   0   0   0   0   0  35 241 225 160 108   1\n",
      "    0   0   0   0   0   0   0   0   0   0]\n",
      " [  0   0   0   0   0   0   0   0   0   0   0   0   0  81 240 253 253 119\n",
      "   25   0   0   0   0   0   0   0   0   0]\n",
      " [  0   0   0   0   0   0   0   0   0   0   0   0   0   0  45 186 253 253\n",
      "  150  27   0   0   0   0   0   0   0   0]\n",
      " [  0   0   0   0   0   0   0   0   0   0   0   0   0   0   0  16  93 252\n",
      "  253 187   0   0   0   0   0   0   0   0]\n",
      " [  0   0   0   0   0   0   0   0   0   0   0   0   0   0   0   0   0 249\n",
      "  253 249  64   0   0   0   0   0   0   0]\n",
      " [  0   0   0   0   0   0   0   0   0   0   0   0   0   0  46 130 183 253\n",
      "  253 207   2   0   0   0   0   0   0   0]\n",
      " [  0   0   0   0   0   0   0   0   0   0   0   0  39 148 229 253 253 253\n",
      "  250 182   0   0   0   0   0   0   0   0]\n",
      " [  0   0   0   0   0   0   0   0   0   0  24 114 221 253 253 253 253 201\n",
      "   78   0   0   0   0   0   0   0   0   0]\n",
      " [  0   0   0   0   0   0   0   0  23  66 213 253 253 253 253 198  81   2\n",
      "    0   0   0   0   0   0   0   0   0   0]\n",
      " [  0   0   0   0   0   0  18 171 219 253 253 253 253 195  80   9   0   0\n",
      "    0   0   0   0   0   0   0   0   0   0]\n",
      " [  0   0   0   0  55 172 226 253 253 253 253 244 133  11   0   0   0   0\n",
      "    0   0   0   0   0   0   0   0   0   0]\n",
      " [  0   0   0   0 136 253 253 253 212 135 132  16   0   0   0   0   0   0\n",
      "    0   0   0   0   0   0   0   0   0   0]\n",
      " [  0   0   0   0   0   0   0   0   0   0   0   0   0   0   0   0   0   0\n",
      "    0   0   0   0   0   0   0   0   0   0]\n",
      " [  0   0   0   0   0   0   0   0   0   0   0   0   0   0   0   0   0   0\n",
      "    0   0   0   0   0   0   0   0   0   0]\n",
      " [  0   0   0   0   0   0   0   0   0   0   0   0   0   0   0   0   0   0\n",
      "    0   0   0   0   0   0   0   0   0   0]]\n",
      "<class 'numpy.ndarray'>\n"
     ]
    }
   ],
   "source": [
    "print(x_train[0])\n",
    "print(type(x_train[0]))"
   ]
  },
  {
   "cell_type": "code",
   "execution_count": 6,
   "metadata": {},
   "outputs": [
    {
     "data": {
      "image/png": "[encoded data removed]",
      "text/plain": [
       "<Figure size 720x720 with 25 Axes>"
      ]
     },
     "metadata": {},
     "output_type": "display_data"
    }
   ],
   "source": [
    "plt.figure(figsize=(10,10))\n",
    "for i in range(25):\n",
    "    plt.subplot(5,5,i+1)\n",
    "    plt.xticks([])\n",
    "    plt.yticks([])\n",
    "    plt.grid(False)\n",
    "    plt.imshow(x_train[i], cmap=plt.cm.binary)\n",
    "    plt.xlabel(str(y_train[i]))\n",
    "plt.show()"
   ]
  },
  {
   "cell_type": "markdown",
   "metadata": {},
   "source": [
    "## Design a model"
   ]
  },
  {
   "cell_type": "markdown",
   "metadata": {},
   "source": [
    "### Model 1: First approach and baseline model\n",
    "\n",
    "We have a goal and a dataset that meets our needs. Now its time to design the model! Our first approach will be a simple perceptron similar to the one described in the presentation. Our neural net will be a sequential model as our layers are stacked one after the other.\n",
    "\n",
    "- The first layer of our network is called **Flatten**. This layer only takes as an input the two-dimensional array of 28 x 28 pixel values and transforms it into a one-dimensional array of 784 pixels.\n",
    "- The next layer is a **dense layer**. This layer is composed of 128 fully-connected neurons. Finally, the last one is a softmax layer formed by 10 neurons. This layer returns an array of 10 probability scores that sum 1. Each score indicates the probability that the input image belongs to one of the 10 classes.\n",
    "\n",
    "Keras models have a built-in method called summary that reports the neural network architecture."
   ]
  },
  {
   "cell_type": "code",
   "execution_count": 7,
   "metadata": {},
   "outputs": [
    {
     "name": "stdout",
     "output_type": "stream",
     "text": [
      "Model: \"sequential\"\n",
      "_________________________________________________________________\n",
      " Layer (type)                Output Shape              Param #   \n",
      "=================================================================\n",
      " flatten (Flatten)           (None, 784)               0         \n",
      "                                                                 \n",
      " dense (Dense)               (None, 128)               100480    \n",
      "                                                                 \n",
      " dense_1 (Dense)             (None, 10)                1290      \n",
      "                                                                 \n",
      "=================================================================\n",
      "Total params: 101,770\n",
      "Trainable params: 101,770\n",
      "Non-trainable params: 0\n",
      "_________________________________________________________________\n"
     ]
    },
    {
     "name": "stderr",
     "output_type": "stream",
     "text": [
      "2022-06-02 21:30:48.007555: W tensorflow/stream_executor/platform/default/dso_loader.cc:64] Could not load dynamic library 'libcuda.so.1'; dlerror: libcuda.so.1: cannot open shared object file: No such file or directory\n",
      "2022-06-02 21:30:48.007582: W tensorflow/stream_executor/cuda/cuda_driver.cc:269] failed call to cuInit: UNKNOWN ERROR (303)\n",
      "2022-06-02 21:30:48.007602: I tensorflow/stream_executor/cuda/cuda_diagnostics.cc:156] kernel driver does not appear to be running on this host (merca-VirtualBox): /proc/driver/nvidia/version does not exist\n",
      "2022-06-02 21:30:48.007863: I tensorflow/core/platform/cpu_feature_guard.cc:193] This TensorFlow binary is optimized with oneAPI Deep Neural Network Library (oneDNN) to use the following CPU instructions in performance-critical operations:  AVX2\n",
      "To enable them in other operations, rebuild TensorFlow with the appropriate compiler flags.\n"
     ]
    }
   ],
   "source": [
    "IMG_SIZE = (28, 28)\n",
    "model_1 = keras.Sequential([\n",
    "    keras.layers.Flatten(input_shape = IMG_SIZE),\n",
    "    keras.layers.Dense(128, activation = 'relu'),\n",
    "    keras.layers.Dense(10, activation = 'softmax')\n",
    "])\n",
    "model_1.summary()"
   ]
  },
  {
   "cell_type": "markdown",
   "metadata": {},
   "source": [
    "Now let's talk about the parameters. The parameters are all the weights and biases of the neurons. As the first layer only reformats the data, it has no parameters to learn. The second layer has 100480 parameters. It is a fully connected layer so it means every neuron of this layer has a connection with every node of the previous layer and also the neurons have their own bias as a parameter.\n",
    "\n",
    "$$ 784 * 128 + 128 = 100480 $$\n",
    "\n",
    "The same goes for the last layer:\n",
    "\n",
    "$$ 128 * 10 + 10 = 1290 $$\n",
    "\n",
    "We are almost done. Before we can train the neural network we need to indicate how this model will be trained. This is configured using the compile method.\n",
    "- Optimizer: This specifies how the parameters of the model are updated during training considering the data and the loss function. We will be using the adam optimizer, described in [Adam: A Method for Stochastic Optimization](https://arxiv.org/abs/1412.6980).\n",
    "- Loss function: This measures how accurate the model is during training. We will be minimizing this function to set the best parameters. In this project we will use a sparse categorical crossentropy loss. We can use this crossentropy loss function when there are two or more label classes and we expect labels to be provided as integers.\n",
    "- Metrics: This is used to monitor different metrics during training and testing steps."
   ]
  },
  {
   "cell_type": "code",
   "execution_count": 8,
   "metadata": {},
   "outputs": [],
   "source": [
    "model_1.compile(optimizer='adam',\n",
    "              loss='sparse_categorical_crossentropy',\n",
    "              metrics=['accuracy'])"
   ]
  },
  {
   "cell_type": "markdown",
   "metadata": {},
   "source": [
    "Now we can start training the model!! This is done using the fit method. We must specify the input data and the expected outputs (remember that neural networks are a supervised learning algorithm). We will also specify a validation set to see the performance of the net on unseen data. This will be very useful to diagnose training errors in the early stages of the training.\n",
    "\n",
    "Additionally, we have to specify the batch size and the number of epochs.\n",
    "\n",
    "- The batch_size is the number of samples that are feed in the network before updating its parameters. It is a hyperparameter of the network. There are some trade-offs that must be taken into account when establishing this number, like the memory available or the training speed.\n",
    "- The number of epochs: indicates how many times the training set is feed into the network. It is also a hyperparameter of the neural network. There is also a trade-off whit this parameter as if it is too low the neural network will be underfed and if it is too large the network will be overfed."
   ]
  },
  {
   "cell_type": "code",
   "execution_count": 9,
   "metadata": {},
   "outputs": [
    {
     "name": "stdout",
     "output_type": "stream",
     "text": [
      "Epoch 1/10\n",
      "6000/6000 [==============================] - 13s 2ms/step - loss: 1.6466 - accuracy: 0.8500 - val_loss: 0.4167 - val_accuracy: 0.9012\n",
      "Epoch 2/10\n",
      "6000/6000 [==============================] - 11s 2ms/step - loss: 0.4034 - accuracy: 0.9068 - val_loss: 0.3511 - val_accuracy: 0.9137\n",
      "Epoch 3/10\n",
      "6000/6000 [==============================] - 10s 2ms/step - loss: 0.3639 - accuracy: 0.9172 - val_loss: 0.2943 - val_accuracy: 0.9300\n",
      "Epoch 4/10\n",
      "6000/6000 [==============================] - 12s 2ms/step - loss: 0.3412 - accuracy: 0.9208 - val_loss: 0.3774 - val_accuracy: 0.9120\n",
      "Epoch 5/10\n",
      "6000/6000 [==============================] - 11s 2ms/step - loss: 0.3372 - accuracy: 0.9235 - val_loss: 0.3934 - val_accuracy: 0.9285\n",
      "Epoch 6/10\n",
      "6000/6000 [==============================] - 10s 2ms/step - loss: 0.3331 - accuracy: 0.9254 - val_loss: 0.4473 - val_accuracy: 0.9246\n",
      "Epoch 7/10\n",
      "6000/6000 [==============================] - 10s 2ms/step - loss: 0.3236 - accuracy: 0.9283 - val_loss: 0.3615 - val_accuracy: 0.9233\n",
      "Epoch 8/10\n",
      "6000/6000 [==============================] - 9s 2ms/step - loss: 0.3247 - accuracy: 0.9292 - val_loss: 0.4251 - val_accuracy: 0.9257\n",
      "Epoch 9/10\n",
      "6000/6000 [==============================] - 10s 2ms/step - loss: 0.3147 - accuracy: 0.9306 - val_loss: 0.3940 - val_accuracy: 0.9289\n",
      "Epoch 10/10\n",
      "6000/6000 [==============================] - 10s 2ms/step - loss: 0.3057 - accuracy: 0.9330 - val_loss: 0.5488 - val_accuracy: 0.8740\n"
     ]
    }
   ],
   "source": [
    "tensorboard_callback = tf.keras.callbacks.TensorBoard(\"logs/Model_1\")\n",
    "\n",
    "history = model_1.fit(x_train,\n",
    "                    y_train,\n",
    "                    validation_data = (x_test, y_test),\n",
    "                    batch_size = 10,\n",
    "                    epochs = 10,\n",
    "                    callbacks=[tensorboard_callback])\n",
    "\n",
    "model_1.save('Models/model_1.h5')"
   ]
  },
  {
   "cell_type": "code",
   "execution_count": 10,
   "metadata": {},
   "outputs": [
    {
     "data": {
      "image/png": "[encoded data removed]",
      "text/plain": [
       "<Figure size 432x288 with 1 Axes>"
      ]
     },
     "metadata": {
      "needs_background": "light"
     },
     "output_type": "display_data"
    },
    {
     "data": {
      "image/png": "[encoded data removed]",
      "text/plain": [
       "<Figure size 432x288 with 1 Axes>"
      ]
     },
     "metadata": {
      "needs_background": "light"
     },
     "output_type": "display_data"
    }
   ],
   "source": [
    "# Plot training & accuracy values\n",
    "plt.plot(history.history['accuracy'])\n",
    "plt.plot(history.history['val_accuracy'])\n",
    "plt.title('Model accuracy')\n",
    "plt.ylabel('Accuracy')\n",
    "plt.xlabel('Epoch')\n",
    "plt.legend(['Train', 'Test'], loc='upper left')\n",
    "plt.show()\n",
    "# Plot training & validation loss values\n",
    "plt.plot(history.history['loss'])\n",
    "plt.plot(history.history['val_loss'])\n",
    "plt.title('Model loss')\n",
    "plt.ylabel('Loss')\n",
    "plt.xlabel('Epoch')\n",
    "plt.legend(['Train', 'Test'], loc='upper left')\n",
    "plt.show()"
   ]
  },
  {
   "cell_type": "markdown",
   "metadata": {},
   "source": [
    "### Improving the model: Normalizing the data\n",
    "\n",
    "Our accuracy is not good enough for our purpose. Don't worry, this happens a lot when you are working in an ML project. We have to improve this! Our first step is to check the data. As yo known from previous classes is good to normalize the data, in the image field this is done by dividing our images by 255 as they are matrices of 8-bit integer values. As a result, we will obtain matrices with values between 0 and 1. This will speed out training. We will create a new model equal to the previous one but we will train it with the normalized dataset."
   ]
  },
  {
   "cell_type": "code",
   "execution_count": 11,
   "metadata": {},
   "outputs": [],
   "source": [
    "x_train = x_train / 255.0\n",
    "x_test = x_test / 255.0"
   ]
  },
  {
   "cell_type": "code",
   "execution_count": 12,
   "metadata": {},
   "outputs": [
    {
     "name": "stdout",
     "output_type": "stream",
     "text": [
      "[[0.         0.         0.         0.         0.         0.\n",
      "  0.         0.         0.         0.         0.         0.\n",
      "  0.         0.         0.         0.         0.         0.\n",
      "  0.         0.         0.         0.         0.         0.\n",
      "  0.         0.         0.         0.        ]\n",
      " [0.         0.         0.         0.         0.         0.\n",
      "  0.         0.         0.         0.         0.         0.\n",
      "  0.         0.         0.         0.         0.         0.\n",
      "  0.         0.         0.         0.         0.         0.\n",
      "  0.         0.         0.         0.        ]\n",
      " [0.         0.         0.         0.         0.         0.\n",
      "  0.         0.         0.         0.         0.         0.\n",
      "  0.         0.         0.         0.         0.         0.\n",
      "  0.         0.         0.         0.         0.         0.\n",
      "  0.         0.         0.         0.        ]\n",
      " [0.         0.         0.         0.         0.         0.\n",
      "  0.         0.         0.         0.         0.         0.\n",
      "  0.         0.         0.         0.         0.         0.\n",
      "  0.         0.         0.         0.         0.         0.\n",
      "  0.         0.         0.         0.        ]\n",
      " [0.         0.         0.         0.         0.         0.\n",
      "  0.         0.         0.         0.         0.         0.\n",
      "  0.         0.         0.         0.         0.         0.\n",
      "  0.         0.         0.         0.         0.         0.\n",
      "  0.         0.         0.         0.        ]\n",
      " [0.         0.         0.         0.         0.         0.\n",
      "  0.         0.         0.         0.         0.         0.\n",
      "  0.01176471 0.07058824 0.07058824 0.07058824 0.49411765 0.53333333\n",
      "  0.68627451 0.10196078 0.65098039 1.         0.96862745 0.49803922\n",
      "  0.         0.         0.         0.        ]\n",
      " [0.         0.         0.         0.         0.         0.\n",
      "  0.         0.         0.11764706 0.14117647 0.36862745 0.60392157\n",
      "  0.66666667 0.99215686 0.99215686 0.99215686 0.99215686 0.99215686\n",
      "  0.88235294 0.6745098  0.99215686 0.94901961 0.76470588 0.25098039\n",
      "  0.         0.         0.         0.        ]\n",
      " [0.         0.         0.         0.         0.         0.\n",
      "  0.         0.19215686 0.93333333 0.99215686 0.99215686 0.99215686\n",
      "  0.99215686 0.99215686 0.99215686 0.99215686 0.99215686 0.98431373\n",
      "  0.36470588 0.32156863 0.32156863 0.21960784 0.15294118 0.\n",
      "  0.         0.         0.         0.        ]\n",
      " [0.         0.         0.         0.         0.         0.\n",
      "  0.         0.07058824 0.85882353 0.99215686 0.99215686 0.99215686\n",
      "  0.99215686 0.99215686 0.77647059 0.71372549 0.96862745 0.94509804\n",
      "  0.         0.         0.         0.         0.         0.\n",
      "  0.         0.         0.         0.        ]\n",
      " [0.         0.         0.         0.         0.         0.\n",
      "  0.         0.         0.31372549 0.61176471 0.41960784 0.99215686\n",
      "  0.99215686 0.80392157 0.04313725 0.         0.16862745 0.60392157\n",
      "  0.         0.         0.         0.         0.         0.\n",
      "  0.         0.         0.         0.        ]\n",
      " [0.         0.         0.         0.         0.         0.\n",
      "  0.         0.         0.         0.05490196 0.00392157 0.60392157\n",
      "  0.99215686 0.35294118 0.         0.         0.         0.\n",
      "  0.         0.         0.         0.         0.         0.\n",
      "  0.         0.         0.         0.        ]\n",
      " [0.         0.         0.         0.         0.         0.\n",
      "  0.         0.         0.         0.         0.         0.54509804\n",
      "  0.99215686 0.74509804 0.00784314 0.         0.         0.\n",
      "  0.         0.         0.         0.         0.         0.\n",
      "  0.         0.         0.         0.        ]\n",
      " [0.         0.         0.         0.         0.         0.\n",
      "  0.         0.         0.         0.         0.         0.04313725\n",
      "  0.74509804 0.99215686 0.2745098  0.         0.         0.\n",
      "  0.         0.         0.         0.         0.         0.\n",
      "  0.         0.         0.         0.        ]\n",
      " [0.         0.         0.         0.         0.         0.\n",
      "  0.         0.         0.         0.         0.         0.\n",
      "  0.1372549  0.94509804 0.88235294 0.62745098 0.42352941 0.00392157\n",
      "  0.         0.         0.         0.         0.         0.\n",
      "  0.         0.         0.         0.        ]\n",
      " [0.         0.         0.         0.         0.         0.\n",
      "  0.         0.         0.         0.         0.         0.\n",
      "  0.         0.31764706 0.94117647 0.99215686 0.99215686 0.46666667\n",
      "  0.09803922 0.         0.         0.         0.         0.\n",
      "  0.         0.         0.         0.        ]\n",
      " [0.         0.         0.         0.         0.         0.\n",
      "  0.         0.         0.         0.         0.         0.\n",
      "  0.         0.         0.17647059 0.72941176 0.99215686 0.99215686\n",
      "  0.58823529 0.10588235 0.         0.         0.         0.\n",
      "  0.         0.         0.         0.        ]\n",
      " [0.         0.         0.         0.         0.         0.\n",
      "  0.         0.         0.         0.         0.         0.\n",
      "  0.         0.         0.         0.0627451  0.36470588 0.98823529\n",
      "  0.99215686 0.73333333 0.         0.         0.         0.\n",
      "  0.         0.         0.         0.        ]\n",
      " [0.         0.         0.         0.         0.         0.\n",
      "  0.         0.         0.         0.         0.         0.\n",
      "  0.         0.         0.         0.         0.         0.97647059\n",
      "  0.99215686 0.97647059 0.25098039 0.         0.         0.\n",
      "  0.         0.         0.         0.        ]\n",
      " [0.         0.         0.         0.         0.         0.\n",
      "  0.         0.         0.         0.         0.         0.\n",
      "  0.         0.         0.18039216 0.50980392 0.71764706 0.99215686\n",
      "  0.99215686 0.81176471 0.00784314 0.         0.         0.\n",
      "  0.         0.         0.         0.        ]\n",
      " [0.         0.         0.         0.         0.         0.\n",
      "  0.         0.         0.         0.         0.         0.\n",
      "  0.15294118 0.58039216 0.89803922 0.99215686 0.99215686 0.99215686\n",
      "  0.98039216 0.71372549 0.         0.         0.         0.\n",
      "  0.         0.         0.         0.        ]\n",
      " [0.         0.         0.         0.         0.         0.\n",
      "  0.         0.         0.         0.         0.09411765 0.44705882\n",
      "  0.86666667 0.99215686 0.99215686 0.99215686 0.99215686 0.78823529\n",
      "  0.30588235 0.         0.         0.         0.         0.\n",
      "  0.         0.         0.         0.        ]\n",
      " [0.         0.         0.         0.         0.         0.\n",
      "  0.         0.         0.09019608 0.25882353 0.83529412 0.99215686\n",
      "  0.99215686 0.99215686 0.99215686 0.77647059 0.31764706 0.00784314\n",
      "  0.         0.         0.         0.         0.         0.\n",
      "  0.         0.         0.         0.        ]\n",
      " [0.         0.         0.         0.         0.         0.\n",
      "  0.07058824 0.67058824 0.85882353 0.99215686 0.99215686 0.99215686\n",
      "  0.99215686 0.76470588 0.31372549 0.03529412 0.         0.\n",
      "  0.         0.         0.         0.         0.         0.\n",
      "  0.         0.         0.         0.        ]\n",
      " [0.         0.         0.         0.         0.21568627 0.6745098\n",
      "  0.88627451 0.99215686 0.99215686 0.99215686 0.99215686 0.95686275\n",
      "  0.52156863 0.04313725 0.         0.         0.         0.\n",
      "  0.         0.         0.         0.         0.         0.\n",
      "  0.         0.         0.         0.        ]\n",
      " [0.         0.         0.         0.         0.53333333 0.99215686\n",
      "  0.99215686 0.99215686 0.83137255 0.52941176 0.51764706 0.0627451\n",
      "  0.         0.         0.         0.         0.         0.\n",
      "  0.         0.         0.         0.         0.         0.\n",
      "  0.         0.         0.         0.        ]\n",
      " [0.         0.         0.         0.         0.         0.\n",
      "  0.         0.         0.         0.         0.         0.\n",
      "  0.         0.         0.         0.         0.         0.\n",
      "  0.         0.         0.         0.         0.         0.\n",
      "  0.         0.         0.         0.        ]\n",
      " [0.         0.         0.         0.         0.         0.\n",
      "  0.         0.         0.         0.         0.         0.\n",
      "  0.         0.         0.         0.         0.         0.\n",
      "  0.         0.         0.         0.         0.         0.\n",
      "  0.         0.         0.         0.        ]\n",
      " [0.         0.         0.         0.         0.         0.\n",
      "  0.         0.         0.         0.         0.         0.\n",
      "  0.         0.         0.         0.         0.         0.\n",
      "  0.         0.         0.         0.         0.         0.\n",
      "  0.         0.         0.         0.        ]]\n"
     ]
    }
   ],
   "source": [
    "print(x_train[0])"
   ]
  },
  {
   "cell_type": "code",
   "execution_count": 13,
   "metadata": {},
   "outputs": [
    {
     "name": "stdout",
     "output_type": "stream",
     "text": [
      "Model: \"sequential_1\"\n",
      "_________________________________________________________________\n",
      " Layer (type)                Output Shape              Param #   \n",
      "=================================================================\n",
      " flatten_1 (Flatten)         (None, 784)               0         \n",
      "                                                                 \n",
      " dense_2 (Dense)             (None, 128)               100480    \n",
      "                                                                 \n",
      " dense_3 (Dense)             (None, 10)                1290      \n",
      "                                                                 \n",
      "=================================================================\n",
      "Total params: 101,770\n",
      "Trainable params: 101,770\n",
      "Non-trainable params: 0\n",
      "_________________________________________________________________\n",
      "Epoch 1/10\n"
     ]
    },
    {
     "name": "stderr",
     "output_type": "stream",
     "text": [
      "2022-06-02 21:32:35.091242: W tensorflow/core/framework/cpu_allocator_impl.cc:82] Allocation of 188160000 exceeds 10% of free system memory.\n"
     ]
    },
    {
     "name": "stdout",
     "output_type": "stream",
     "text": [
      "6000/6000 [==============================] - 11s 2ms/step - loss: 0.2153 - accuracy: 0.9363 - val_loss: 0.1055 - val_accuracy: 0.9692\n",
      "Epoch 2/10\n",
      "6000/6000 [==============================] - 9s 2ms/step - loss: 0.0933 - accuracy: 0.9711 - val_loss: 0.0956 - val_accuracy: 0.9717\n",
      "Epoch 3/10\n",
      "6000/6000 [==============================] - 12s 2ms/step - loss: 0.0655 - accuracy: 0.9789 - val_loss: 0.0806 - val_accuracy: 0.9748\n",
      "Epoch 4/10\n",
      "6000/6000 [==============================] - 9s 1ms/step - loss: 0.0491 - accuracy: 0.9842 - val_loss: 0.0786 - val_accuracy: 0.9770\n",
      "Epoch 5/10\n",
      "6000/6000 [==============================] - 9s 1ms/step - loss: 0.0396 - accuracy: 0.9873 - val_loss: 0.0841 - val_accuracy: 0.9755\n",
      "Epoch 6/10\n",
      "6000/6000 [==============================] - 10s 2ms/step - loss: 0.0306 - accuracy: 0.9895 - val_loss: 0.0826 - val_accuracy: 0.9777\n",
      "Epoch 7/10\n",
      "6000/6000 [==============================] - 9s 2ms/step - loss: 0.0253 - accuracy: 0.9917 - val_loss: 0.0831 - val_accuracy: 0.9784\n",
      "Epoch 8/10\n",
      "6000/6000 [==============================] - 10s 2ms/step - loss: 0.0219 - accuracy: 0.9922 - val_loss: 0.0965 - val_accuracy: 0.9757\n",
      "Epoch 9/10\n",
      "6000/6000 [==============================] - 11s 2ms/step - loss: 0.0198 - accuracy: 0.9929 - val_loss: 0.1064 - val_accuracy: 0.9772\n",
      "Epoch 10/10\n",
      "6000/6000 [==============================] - 9s 1ms/step - loss: 0.0163 - accuracy: 0.9941 - val_loss: 0.1043 - val_accuracy: 0.9772\n"
     ]
    }
   ],
   "source": [
    "model_2 = keras.Sequential([\n",
    "    keras.layers.Flatten(input_shape = IMG_SIZE),\n",
    "    keras.layers.Dense(128, activation = 'relu'),\n",
    "    keras.layers.Dense(10, activation = 'softmax')\n",
    "])\n",
    "\n",
    "model_2.summary()\n",
    "\n",
    "model_2.compile(optimizer='adam',\n",
    "              loss='sparse_categorical_crossentropy',\n",
    "              metrics=['accuracy'])\n",
    "\n",
    "tensorboard_callback = tf.keras.callbacks.TensorBoard(\"logs/Model_2\")\n",
    "\n",
    "history = model_2.fit(x_train,\n",
    "                    y_train,\n",
    "                    validation_data = (x_test, y_test),\n",
    "                    batch_size = 10,\n",
    "                    epochs = 10,\n",
    "                    callbacks=[tensorboard_callback])\n",
    "\n",
    "model_2.save('Models/model_2.h5')"
   ]
  },
  {
   "cell_type": "code",
   "execution_count": 14,
   "metadata": {},
   "outputs": [
    {
     "data": {
      "image/png": "[encoded data removed]",
      "text/plain": [
       "<Figure size 432x288 with 1 Axes>"
      ]
     },
     "metadata": {
      "needs_background": "light"
     },
     "output_type": "display_data"
    },
    {
     "data": {
      "image/png": "[encoded data removed]",
      "text/plain": [
       "<Figure size 432x288 with 1 Axes>"
      ]
     },
     "metadata": {
      "needs_background": "light"
     },
     "output_type": "display_data"
    }
   ],
   "source": [
    "# Plot training & accuracy values\n",
    "plt.plot(history.history['accuracy'])\n",
    "plt.plot(history.history['val_accuracy'])\n",
    "plt.title('Model accuracy')\n",
    "plt.ylabel('Accuracy')\n",
    "plt.xlabel('Epoch')\n",
    "plt.legend(['Train', 'Test'], loc='upper left')\n",
    "plt.show()\n",
    "# Plot training & validation loss values\n",
    "plt.plot(history.history['loss'])\n",
    "plt.plot(history.history['val_loss'])\n",
    "plt.title('Model loss')\n",
    "plt.ylabel('Loss')\n",
    "plt.xlabel('Epoch')\n",
    "plt.legend(['Train', 'Test'], loc='upper left')\n",
    "plt.show()"
   ]
  },
  {
   "cell_type": "markdown",
   "metadata": {},
   "source": [
    "### Improving the model: Convolutional Neural Networks (CNN)\n",
    "\n",
    "We can improve the model's performance even further. We will use a new architecture designed to work with images called convolutional neural networks. This architecture uses special types of layers called convolutional layers and pooling layers.\n",
    "\n",
    "Convolutional layers are designed to extract features of the content of the images by performing convolutions over the images using different filters learned during training. The layers can be implemented in 1,2 and 3 dimensions. For images, we will use convolutional layers for 2 dimensions.\n",
    "\n",
    "<center><img src=\"assets/2d_convolution.png\" alt=\"2D convolution\" width=\"800\"/></center>\n",
    "\n",
    "<center><img src=\"assets/convolution.gif\" alt=\"2D convolution\" width=\"400\"/></center>\n",
    "\n",
    "> Gif source : https://towardsdatascience.com/intuitively-understanding-convolutions-for-deep-learning-1f6f42faee1\n",
    "\n",
    "Max pooling layer is used to compress the features computed by the filters.\n",
    "\n",
    "<center><img src=\"assets/max_pooling.png\" alt=\"Max Pooling\" width=\"800\"/></center>\n",
    "\n",
    "Now we will reshape the dataset to specify to the convolutional layer that these are grayscale images (one channel only)."
   ]
  },
  {
   "cell_type": "code",
   "execution_count": 15,
   "metadata": {},
   "outputs": [],
   "source": [
    "x_train = x_train.reshape(x_train.shape[0], 28, 28, 1)\n",
    "x_test = x_test.reshape(x_test.shape[0], 28, 28, 1)"
   ]
  },
  {
   "cell_type": "code",
   "execution_count": 16,
   "metadata": {},
   "outputs": [
    {
     "name": "stdout",
     "output_type": "stream",
     "text": [
      "Model: \"sequential_2\"\n",
      "_________________________________________________________________\n",
      " Layer (type)                Output Shape              Param #   \n",
      "=================================================================\n",
      " conv2d (Conv2D)             (None, 26, 26, 32)        320       \n",
      "                                                                 \n",
      " max_pooling2d (MaxPooling2D  (None, 13, 13, 32)       0         \n",
      " )                                                               \n",
      "                                                                 \n",
      " conv2d_1 (Conv2D)           (None, 11, 11, 32)        9248      \n",
      "                                                                 \n",
      " max_pooling2d_1 (MaxPooling  (None, 5, 5, 32)         0         \n",
      " 2D)                                                             \n",
      "                                                                 \n",
      " flatten_2 (Flatten)         (None, 800)               0         \n",
      "                                                                 \n",
      " dense_4 (Dense)             (None, 128)               102528    \n",
      "                                                                 \n",
      " dense_5 (Dense)             (None, 10)                1290      \n",
      "                                                                 \n",
      "=================================================================\n",
      "Total params: 113,386\n",
      "Trainable params: 113,386\n",
      "Non-trainable params: 0\n",
      "_________________________________________________________________\n"
     ]
    }
   ],
   "source": [
    "model_3 = keras.Sequential([\n",
    "    keras.layers.Conv2D(32, (3,3), activation='relu', input_shape = (28, 28, 1)),\n",
    "    keras.layers.MaxPooling2D(pool_size=(2,2)),\n",
    "    keras.layers.Conv2D(32, (3,3), activation='relu'),\n",
    "    keras.layers.MaxPooling2D(pool_size=(2,2)),\n",
    "    keras.layers.Flatten(),\n",
    "    keras.layers.Dense(128, activation = 'relu'),\n",
    "    keras.layers.Dense(10, activation = 'softmax')\n",
    "])\n",
    "model_3.summary()"
   ]
  },
  {
   "cell_type": "markdown",
   "metadata": {},
   "source": [
    "Let's see again the parameters of the network's layers. The first convolutional layer has 32 filters of 3 x 3 pixels. Each filter only has a bias term. As the filters are learned during the training, we have:\n",
    "\n",
    "$$ 32 * 3 * 3 + 32 = 320 $$\n",
    "\n",
    "As a result of applying 32 filters on a single image, we obtain 32 images, one for each filter. Beware that after applying max pooling to the output of the first conv2d we will have the dimensions halved. In the next conv2d layer will have:\n",
    "\n",
    "$$ 32 * 32 * 3 * 3 + 32 = 9248 $$"
   ]
  },
  {
   "cell_type": "code",
   "execution_count": 17,
   "metadata": {},
   "outputs": [
    {
     "name": "stdout",
     "output_type": "stream",
     "text": [
      "Epoch 1/10\n"
     ]
    },
    {
     "name": "stderr",
     "output_type": "stream",
     "text": [
      "2022-06-02 21:34:14.025778: W tensorflow/core/framework/cpu_allocator_impl.cc:82] Allocation of 188160000 exceeds 10% of free system memory.\n"
     ]
    },
    {
     "name": "stdout",
     "output_type": "stream",
     "text": [
      "6000/6000 [==============================] - 37s 6ms/step - loss: 0.1159 - accuracy: 0.9642 - val_loss: 0.0410 - val_accuracy: 0.9858\n",
      "Epoch 2/10\n",
      "6000/6000 [==============================] - 34s 6ms/step - loss: 0.0433 - accuracy: 0.9862 - val_loss: 0.0289 - val_accuracy: 0.9900\n",
      "Epoch 3/10\n",
      "6000/6000 [==============================] - 37s 6ms/step - loss: 0.0287 - accuracy: 0.9907 - val_loss: 0.0337 - val_accuracy: 0.9883\n",
      "Epoch 4/10\n",
      "6000/6000 [==============================] - 37s 6ms/step - loss: 0.0211 - accuracy: 0.9932 - val_loss: 0.0334 - val_accuracy: 0.9904\n",
      "Epoch 5/10\n",
      "6000/6000 [==============================] - 42s 7ms/step - loss: 0.0161 - accuracy: 0.9950 - val_loss: 0.0463 - val_accuracy: 0.9866\n",
      "Epoch 6/10\n",
      "6000/6000 [==============================] - 41s 7ms/step - loss: 0.0136 - accuracy: 0.9957 - val_loss: 0.0266 - val_accuracy: 0.9911\n",
      "Epoch 7/10\n",
      "6000/6000 [==============================] - 39s 7ms/step - loss: 0.0095 - accuracy: 0.9971 - val_loss: 0.0289 - val_accuracy: 0.9924\n",
      "Epoch 8/10\n",
      "6000/6000 [==============================] - 37s 6ms/step - loss: 0.0095 - accuracy: 0.9969 - val_loss: 0.0334 - val_accuracy: 0.9925\n",
      "Epoch 9/10\n",
      "6000/6000 [==============================] - 40s 7ms/step - loss: 0.0078 - accuracy: 0.9973 - val_loss: 0.0474 - val_accuracy: 0.9906\n",
      "Epoch 10/10\n",
      "6000/6000 [==============================] - 42s 7ms/step - loss: 0.0084 - accuracy: 0.9974 - val_loss: 0.0603 - val_accuracy: 0.9877\n"
     ]
    }
   ],
   "source": [
    "model_3.compile(optimizer='adam',\n",
    "              loss='sparse_categorical_crossentropy',\n",
    "              metrics=['accuracy'])\n",
    "\n",
    "tensorboard_callback = tf.keras.callbacks.TensorBoard(\"logs/Model_3\")\n",
    "\n",
    "history = model_3.fit(x_train,\n",
    "                    y_train,\n",
    "                    validation_data = (x_test, y_test),\n",
    "                    batch_size = 10,\n",
    "                    epochs = 10,\n",
    "                    callbacks=[tensorboard_callback])\n",
    "\n",
    "model_3.save('Models/model_3.h5')"
   ]
  },
  {
   "cell_type": "code",
   "execution_count": 18,
   "metadata": {},
   "outputs": [
    {
     "data": {
      "image/png": "[encoded data removed]",
      "text/plain": [
       "<Figure size 432x288 with 1 Axes>"
      ]
     },
     "metadata": {
      "needs_background": "light"
     },
     "output_type": "display_data"
    },
    {
     "data": {
      "image/png": "[encoded data removed]",
      "text/plain": [
       "<Figure size 432x288 with 1 Axes>"
      ]
     },
     "metadata": {
      "needs_background": "light"
     },
     "output_type": "display_data"
    }
   ],
   "source": [
    "# Plot training & accuracy values\n",
    "plt.plot(history.history['accuracy'])\n",
    "plt.plot(history.history['val_accuracy'])\n",
    "plt.title('Model accuracy')\n",
    "plt.ylabel('Accuracy')\n",
    "plt.xlabel('Epoch')\n",
    "plt.legend(['Train', 'Test'], loc='upper left')\n",
    "plt.show()\n",
    "# Plot training & validation loss values\n",
    "plt.plot(history.history['loss'])\n",
    "plt.plot(history.history['val_loss'])\n",
    "plt.title('Model loss')\n",
    "plt.ylabel('Loss')\n",
    "plt.xlabel('Epoch')\n",
    "plt.legend(['Train', 'Test'], loc='upper left')\n",
    "plt.show()"
   ]
  },
  {
   "cell_type": "markdown",
   "metadata": {},
   "source": [
    "### Improving the model: Dropout as regularitzation technique\n",
    "\n",
    "The Dropout technique is one of the most famous techniques for regularization in NN. It makes it more difficult for the network to \"memorize\" patterns of the training data, by deactivating some neurons. This force the neurons to depend less on the outputs of other neurons, making their features more useful by themselves. This is only done during the training stage.\n",
    "\n",
    " The Dropout layer randomly sets input units to 0 with a frequency of rate at each step during training time, which helps prevent overfitting. Inputs not set to 0 are scaled up by 1/(1 - rate) such that the sum over all inputs is unchanged. At test time, no units are dropped out, and instead the layer's output values are scaled down by a factor equal to the dropout rate, so as to balance for the fact that more units are active than at training time."
   ]
  },
  {
   "cell_type": "code",
   "execution_count": 19,
   "metadata": {},
   "outputs": [
    {
     "name": "stdout",
     "output_type": "stream",
     "text": [
      "Model: \"sequential_3\"\n",
      "_________________________________________________________________\n",
      " Layer (type)                Output Shape              Param #   \n",
      "=================================================================\n",
      " conv2d_2 (Conv2D)           (None, 26, 26, 32)        320       \n",
      "                                                                 \n",
      " max_pooling2d_2 (MaxPooling  (None, 13, 13, 32)       0         \n",
      " 2D)                                                             \n",
      "                                                                 \n",
      " conv2d_3 (Conv2D)           (None, 11, 11, 32)        9248      \n",
      "                                                                 \n",
      " max_pooling2d_3 (MaxPooling  (None, 5, 5, 32)         0         \n",
      " 2D)                                                             \n",
      "                                                                 \n",
      " flatten_3 (Flatten)         (None, 800)               0         \n",
      "                                                                 \n",
      " dense_6 (Dense)             (None, 128)               102528    \n",
      "                                                                 \n",
      " dropout (Dropout)           (None, 128)               0         \n",
      "                                                                 \n",
      " dense_7 (Dense)             (None, 10)                1290      \n",
      "                                                                 \n",
      "=================================================================\n",
      "Total params: 113,386\n",
      "Trainable params: 113,386\n",
      "Non-trainable params: 0\n",
      "_________________________________________________________________\n"
     ]
    }
   ],
   "source": [
    "model_4 = keras.Sequential([\n",
    "    keras.layers.Conv2D(32, (3,3), activation='relu', input_shape = (28, 28, 1)),\n",
    "    keras.layers.MaxPooling2D(pool_size=(2,2)),\n",
    "    keras.layers.Conv2D(32, (3,3), activation='relu'),\n",
    "    keras.layers.MaxPooling2D(pool_size=(2,2)),\n",
    "    keras.layers.Flatten(),\n",
    "    keras.layers.Dense(128, activation = 'relu'),\n",
    "    keras.layers.Dropout(0.5),\n",
    "    keras.layers.Dense(10, activation = 'softmax')\n",
    "])\n",
    "\n",
    "model_4.summary()"
   ]
  },
  {
   "cell_type": "code",
   "execution_count": 20,
   "metadata": {},
   "outputs": [
    {
     "name": "stdout",
     "output_type": "stream",
     "text": [
      "Epoch 1/10\n"
     ]
    },
    {
     "name": "stderr",
     "output_type": "stream",
     "text": [
      "2022-06-02 21:40:41.227670: W tensorflow/core/framework/cpu_allocator_impl.cc:82] Allocation of 188160000 exceeds 10% of free system memory.\n"
     ]
    },
    {
     "name": "stdout",
     "output_type": "stream",
     "text": [
      "6000/6000 [==============================] - 39s 6ms/step - loss: 0.1809 - accuracy: 0.9449 - val_loss: 0.0572 - val_accuracy: 0.9825\n",
      "Epoch 2/10\n",
      "6000/6000 [==============================] - 41s 7ms/step - loss: 0.0736 - accuracy: 0.9780 - val_loss: 0.0343 - val_accuracy: 0.9891\n",
      "Epoch 3/10\n",
      "6000/6000 [==============================] - 36s 6ms/step - loss: 0.0560 - accuracy: 0.9834 - val_loss: 0.0306 - val_accuracy: 0.9897\n",
      "Epoch 4/10\n",
      "6000/6000 [==============================] - 39s 6ms/step - loss: 0.0480 - accuracy: 0.9856 - val_loss: 0.0332 - val_accuracy: 0.9888\n",
      "Epoch 5/10\n",
      "6000/6000 [==============================] - 40s 7ms/step - loss: 0.0401 - accuracy: 0.9879 - val_loss: 0.0328 - val_accuracy: 0.9907\n",
      "Epoch 6/10\n",
      "6000/6000 [==============================] - 37s 6ms/step - loss: 0.0367 - accuracy: 0.9892 - val_loss: 0.0284 - val_accuracy: 0.9914\n",
      "Epoch 7/10\n",
      "6000/6000 [==============================] - 36s 6ms/step - loss: 0.0325 - accuracy: 0.9903 - val_loss: 0.0345 - val_accuracy: 0.9919\n",
      "Epoch 8/10\n",
      "6000/6000 [==============================] - 34s 6ms/step - loss: 0.0302 - accuracy: 0.9905 - val_loss: 0.0307 - val_accuracy: 0.9914\n",
      "Epoch 9/10\n",
      "6000/6000 [==============================] - 33s 6ms/step - loss: 0.0268 - accuracy: 0.9917 - val_loss: 0.0284 - val_accuracy: 0.9922\n",
      "Epoch 10/10\n",
      "6000/6000 [==============================] - 34s 6ms/step - loss: 0.0241 - accuracy: 0.9928 - val_loss: 0.0295 - val_accuracy: 0.9914\n"
     ]
    }
   ],
   "source": [
    "model_4.compile(optimizer='adam',\n",
    "              loss='sparse_categorical_crossentropy',\n",
    "              metrics=['accuracy'])\n",
    "\n",
    "tensorboard_callback = tf.keras.callbacks.TensorBoard(\"logs/Model_4\")\n",
    "\n",
    "history = model_4.fit(x_train,\n",
    "                    y_train,\n",
    "                    validation_data = (x_test, y_test),\n",
    "                    batch_size = 10,\n",
    "                    epochs = 10,\n",
    "                    callbacks=[tensorboard_callback])\n",
    "\n",
    "model_4.save('Models/model_4.h5')"
   ]
  }
 ],
 "metadata": {
  "interpreter": {
   "hash": "e54000f159efabab77c845bbe9e2981a9b2968a0871fc06e746fcfb112344f88"
  },
  "kernelspec": {
   "display_name": "Python 3.8.10 ('venv': venv)",
   "language": "python",
   "name": "python3"
  },
  "language_info": {
   "codemirror_mode": {
    "name": "ipython",
    "version": 3
   },
   "file_extension": ".py",
   "mimetype": "text/x-python",
   "name": "python",
   "nbconvert_exporter": "python",
   "pygments_lexer": "ipython3",
   "version": "3.8.10"
  },
  "orig_nbformat": 4
 },
 "nbformat": 4,
 "nbformat_minor": 2
}
